{
 "cells": [
  {
   "cell_type": "code",
   "execution_count": 3,
   "id": "544811f9",
   "metadata": {},
   "outputs": [
    {
     "name": "stdout",
     "output_type": "stream",
     "text": [
      "[1, 2, 3, 4, 5]\n"
     ]
    }
   ],
   "source": [
    "dict={'A':[1,2,3], 'B':[2,3,4], 'C':[3,4,5]}\n",
    "x=[]\n",
    "for i in dict.keys():\n",
    "    x.extend(dict[i])\n",
    "x=list(set(x))\n",
    "print(x)"
   ]
  },
  {
   "cell_type": "code",
   "execution_count": 5,
   "id": "4a57e114",
   "metadata": {},
   "outputs": [
    {
     "name": "stdout",
     "output_type": "stream",
     "text": [
      "600\n"
     ]
    }
   ],
   "source": [
    "dict={'A':100, 'B':300, 'C':200}\n",
    "x=[]\n",
    "for i in dict.keys():\n",
    "    x.append(dict[i])\n",
    "print(sum(x))"
   ]
  },
  {
   "cell_type": "code",
   "execution_count": 6,
   "id": "f9a39bec",
   "metadata": {},
   "outputs": [
    {
     "name": "stdout",
     "output_type": "stream",
     "text": [
      "{'A': 2, 'B': 3, 'C': 4, 'D': 5}\n"
     ]
    }
   ],
   "source": [
    "def Merge(dict1,dict2):\n",
    "    res={**dict1,**dict2}\n",
    "    return res\n",
    "dict1={'A':2, 'B':3}\n",
    "dict2={'C':4, 'D':5}\n",
    "dict3=Merge(dict1,dict2)\n",
    "print(dict3)"
   ]
  },
  {
   "cell_type": "code",
   "execution_count": 17,
   "id": "9d4cd3a0",
   "metadata": {},
   "outputs": [
    {
     "name": "stdout",
     "output_type": "stream",
     "text": [
      "OrderedDict([('C', 3), ('A', 1), ('B', 2)])\n"
     ]
    }
   ],
   "source": [
    "from collections import OrderedDict\n",
    "dict1=OrderedDict([('A',1),('B',2)])\n",
    "dict1.update({'C':3})\n",
    "dict1.move_to_end('C',last=False)\n",
    "print(dict1)"
   ]
  },
  {
   "cell_type": "code",
   "execution_count": 20,
   "id": "b1fffe4a",
   "metadata": {
    "scrolled": true
   },
   "outputs": [
    {
     "name": "stdout",
     "output_type": "stream",
     "text": [
      "True\n"
     ]
    }
   ],
   "source": [
    "from collections import OrderedDict\n",
    "def checkOrder(str,pattern):\n",
    "    dict=OrderedDict.fromkeys(str)\n",
    "    count=0\n",
    "    for key,value in dict.items():\n",
    "        if(key==pattern[count]):\n",
    "            count=count+1\n",
    "        if(count==len(pattern)):\n",
    "            return True\n",
    "    return False\n",
    "str=\"Kunal Aggarwal\"\n",
    "pattern=\"al\"\n",
    "print(checkOrder(str,pattern))"
   ]
  },
  {
   "cell_type": "code",
   "execution_count": 21,
   "id": "28eab868",
   "metadata": {},
   "outputs": [
    {
     "name": "stdout",
     "output_type": "stream",
     "text": [
      "OrderedDict([('Ishank', 9), ('Kunal', 20), ('Ravi', 10), ('Sanju', 17), ('Yash', 2)])\n"
     ]
    }
   ],
   "source": [
    "from collections import OrderedDict\n",
    "dict={'Ravi':10,'Kunal':20,'Ishank':9,'Yash':2,'Sanju':17}\n",
    "dict1=OrderedDict(sorted(dict.items()))\n",
    "print(dict1)"
   ]
  }
 ],
 "metadata": {
  "kernelspec": {
   "display_name": "Python 3 (ipykernel)",
   "language": "python",
   "name": "python3"
  },
  "language_info": {
   "codemirror_mode": {
    "name": "ipython",
    "version": 3
   },
   "file_extension": ".py",
   "mimetype": "text/x-python",
   "name": "python",
   "nbconvert_exporter": "python",
   "pygments_lexer": "ipython3",
   "version": "3.9.7"
  }
 },
 "nbformat": 4,
 "nbformat_minor": 5
}
